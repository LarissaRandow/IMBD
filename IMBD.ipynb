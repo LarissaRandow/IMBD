{
  "nbformat": 4,
  "nbformat_minor": 0,
  "metadata": {
    "colab": {
      "provenance": [],
      "gpuType": "T4",
      "authorship_tag": "ABX9TyNG086DbwmURcOPEweknZFV",
      "include_colab_link": true
    },
    "kernelspec": {
      "name": "python3",
      "display_name": "Python 3"
    },
    "language_info": {
      "name": "python"
    },
    "accelerator": "GPU"
  },
  "cells": [
    {
      "cell_type": "markdown",
      "metadata": {
        "id": "view-in-github",
        "colab_type": "text"
      },
      "source": [
        "<a href=\"https://colab.research.google.com/github/LarissaRandow/IMBD/blob/main/IMBD.ipynb\" target=\"_parent\"><img src=\"https://colab.research.google.com/assets/colab-badge.svg\" alt=\"Open In Colab\"/></a>"
      ]
    },
    {
      "cell_type": "code",
      "execution_count": null,
      "metadata": {
        "id": "YKYdblSJ7KAj"
      },
      "outputs": [],
      "source": [
        "!pip install transformers torch pandas tqdm"
      ]
    },
    {
      "cell_type": "code",
      "source": [
        "!wget https://ai.stanford.edu/~amaas/data/sentiment/aclImdb_v1.tar.gz\n",
        "!tar -xvzf aclImdb_v1.tar.gz"
      ],
      "metadata": {
        "id": "WtPDI1Zs7i8L"
      },
      "execution_count": null,
      "outputs": []
    },
    {
      "cell_type": "code",
      "source": [
        "import os\n",
        "import pandas as pd\n",
        "from tqdm import tqdm\n",
        "from transformers import pipeline, AutoTokenizer, AutoModelForSequenceClassification\n",
        "\n",
        "# Função para carregar os dados do IMDB\n",
        "def load_imdb_data(data_dir, sample_size=None):\n",
        "    data = {'text': [], 'label': []}\n",
        "    for label in ['pos', 'neg']:\n",
        "        labeled_dir = os.path.join(data_dir, label)\n",
        "        for review in os.listdir(labeled_dir):\n",
        "            with open(os.path.join(labeled_dir, review), 'r', encoding='utf-8') as file:\n",
        "                data['text'].append(file.read())\n",
        "                data['label'].append(1 if label == 'pos' else 0)\n",
        "    df = pd.DataFrame(data)\n",
        "    if sample_size:\n",
        "        df = df.sample(n=sample_size, random_state=42).reset_index(drop=True)\n",
        "    return df\n",
        "\n",
        "# Caminho para o diretório de dados\n",
        "data_dir = 'aclImdb'\n",
        "sample_size = 500  # Definindo o tamanho da amostra\n",
        "\n",
        "train_data = load_imdb_data(os.path.join(data_dir, 'train'), sample_size=sample_size)\n",
        "test_data = load_imdb_data(os.path.join(data_dir, 'test'), sample_size=sample_size)\n",
        "\n",
        "# Configuração da pipeline de análise de sentimento com modelo explícito\n",
        "model_name = \"distilbert-base-uncased-finetuned-sst-2-english\"\n",
        "sentiment_pipeline = pipeline('sentiment-analysis', model=model_name)\n",
        "tokenizer = AutoTokenizer.from_pretrained(model_name)\n",
        "\n",
        "# Função para truncar texto\n",
        "def truncate_text(text, tokenizer, max_length=512):\n",
        "    encoded = tokenizer.encode(text, truncation=True, max_length=max_length)\n",
        "    truncated_text = tokenizer.decode(encoded, skip_special_tokens=True)\n",
        "    return truncated_text\n",
        "\n",
        "# Análise de sentimento nos dados\n",
        "def analyze_sentiment(data):\n",
        "    sentiments = []\n",
        "    for text in tqdm(data['text'], desc='Analyzing Sentiments'):\n",
        "        truncated_text = truncate_text(text, tokenizer)\n",
        "        result = sentiment_pipeline(truncated_text)\n",
        "        sentiments.append(result[0])\n",
        "    return sentiments\n",
        "\n",
        "train_data['sentiment'] = analyze_sentiment(train_data)\n",
        "test_data['sentiment'] = analyze_sentiment(test_data)\n",
        "\n",
        "# Transformação dos resultados\n",
        "def transform_sentiments(data):\n",
        "    data['sentiment_label'] = data['sentiment'].apply(lambda x: 1 if x['label'] == 'POSITIVE' else 0)\n",
        "    data['sentiment_score'] = data['sentiment'].apply(lambda x: x['score'])\n",
        "    data.drop(columns=['sentiment'], inplace=True)\n",
        "\n",
        "transform_sentiments(train_data)\n",
        "transform_sentiments(test_data)\n",
        "\n",
        "# Avaliação do modelo\n",
        "from sklearn.metrics import accuracy_score, classification_report\n",
        "\n",
        "train_accuracy = accuracy_score(train_data['label'], train_data['sentiment_label'])\n",
        "test_accuracy = accuracy_score(test_data['label'], test_data['sentiment_label'])\n",
        "\n",
        "print(f'Train Accuracy: {train_accuracy:.4f}')\n",
        "print(f'Test Accuracy: {test_accuracy:.4f}')\n",
        "print('Classification Report (Test Data):')\n",
        "print(classification_report(test_data['label'], test_data['sentiment_label']))\n"
      ],
      "metadata": {
        "colab": {
          "base_uri": "https://localhost:8080/"
        },
        "id": "227S21U47xED",
        "outputId": "6d526d66-f8e1-4378-d1b8-38ff414af81a"
      },
      "execution_count": null,
      "outputs": [
        {
          "output_type": "stream",
          "name": "stderr",
          "text": [
            "Analyzing Sentiments: 100%|██████████| 500/500 [03:42<00:00,  2.24it/s]\n",
            "Analyzing Sentiments: 100%|██████████| 500/500 [03:47<00:00,  2.20it/s]"
          ]
        },
        {
          "output_type": "stream",
          "name": "stdout",
          "text": [
            "Train Accuracy: 0.8720\n",
            "Test Accuracy: 0.8940\n",
            "Classification Report (Test Data):\n",
            "              precision    recall  f1-score   support\n",
            "\n",
            "           0       0.85      0.94      0.89       234\n",
            "           1       0.94      0.86      0.90       266\n",
            "\n",
            "    accuracy                           0.89       500\n",
            "   macro avg       0.90      0.90      0.89       500\n",
            "weighted avg       0.90      0.89      0.89       500\n",
            "\n"
          ]
        },
        {
          "output_type": "stream",
          "name": "stderr",
          "text": [
            "\n"
          ]
        }
      ]
    }
  ]
}